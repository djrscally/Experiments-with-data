{
 "cells": [
  {
   "cell_type": "markdown",
   "metadata": {},
   "source": [
    "#Experiments with aggregating categorical data into sub-groups\n",
    "\n",
    "So one of the things that you often see in data science competitions is the grouping of categorical data into a smaller number of sub-groups to improve that feature's performance as a predictor of the target variable. In Kaggle's Titanic competition for example you'll very often find people mapping the myriad of passenger titles (Mr, Mrs, Doctor, Major, Lord, Lady etc) to a smaller number of categories (Commoner, Professional, Arisocrat).  This generally is expressed as logically grouping categories that belong together, however I wanted to explore that a little to try figure out if it's a worthwhile technique even when there are no logical groupings (for example, datasets that have the explanatory information removed)\n",
    "\n",
    "First up, I'll import the usual things plus [f_oneway](https://docs.scipy.org/doc/scipy/reference/generated/scipy.stats.f_oneway.html) from scipy to run ANOVA tests."
   ]
  },
  {
   "cell_type": "code",
   "execution_count": 1,
   "metadata": {},
   "outputs": [],
   "source": [
    "%matplotlib inline\n",
    "import pandas as pd\n",
    "import seaborn as sns\n",
    "from scipy.stats import f_oneway\n",
    "import numpy as np"
   ]
  },
  {
   "cell_type": "markdown",
   "metadata": {},
   "source": [
    "The dataset I'm using has house prices as the dependent variable against a whole bunch of features, but I'm just going to use one (the type of foundation the house has) since I'm not worried about maximising the actual prediction accuracy, just in the effects of engineering the feature in different ways."
   ]
  },
  {
   "cell_type": "code",
   "execution_count": 2,
   "metadata": {},
   "outputs": [],
   "source": [
    "df = pd.read_csv('train.csv',\n",
    "                    index_col=None)"
   ]
  },
  {
   "cell_type": "markdown",
   "metadata": {},
   "source": [
    "So let's run a quick boxplot and calculate the p-value"
   ]
  },
  {
   "cell_type": "code",
   "execution_count": 3,
   "metadata": {},
   "outputs": [
    {
     "name": "stdout",
     "output_type": "stream",
     "text": [
      "F_onewayResult(statistic=100.25385058740888, pvalue=5.791895002232233e-91)\n"
     ]
    },
    {
     "data": {
      "image/png": "[encoded data removed]",
      "text/plain": [
       "<Figure size 432x288 with 1 Axes>"
      ]
     },
     "metadata": {},
     "output_type": "display_data"
    }
   ],
   "source": [
    "sns.boxplot(x='Foundation',\n",
    "           y='SalePrice',\n",
    "           data=df,\n",
    "            order=df.groupby('Foundation')['SalePrice'].median().sort_values().keys())\n",
    "\n",
    "vals = df.Foundation.unique()\n",
    "a = []\n",
    "for val in vals:\n",
    "    a.append(df.loc[df.Foundation == val].SalePrice)\n",
    "\n",
    "print(f_oneway(*a))"
   ]
  },
  {
   "cell_type": "markdown",
   "metadata": {},
   "source": [
    "Reasonable fit, low p-value. Now I'll map those into some groups and see what happens."
   ]
  },
  {
   "cell_type": "code",
   "execution_count": 4,
   "metadata": {},
   "outputs": [],
   "source": [
    "mappings = {\n",
    "   'Slab':'A',\n",
    "    'BrkTil':'B',\n",
    "    'Stone':'B',\n",
    "    'CBlock':'B',\n",
    "    'Wood':'C',\n",
    "    'PConc':'C'\n",
    "}\n",
    "\n",
    "df['Found2'] = df['Foundation'].map(mappings)"
   ]
  },
  {
   "cell_type": "markdown",
   "metadata": {},
   "source": [
    "And now the same boxplot and anova as before"
   ]
  },
  {
   "cell_type": "code",
   "execution_count": 5,
   "metadata": {},
   "outputs": [
    {
     "name": "stdout",
     "output_type": "stream",
     "text": [
      "F_onewayResult(statistic=244.99194125658695, pvalue=1.9046134709417034e-92)\n"
     ]
    },
    {
     "data": {
      "image/png": "[encoded data removed]",
      "text/plain": [
       "<Figure size 432x288 with 1 Axes>"
      ]
     },
     "metadata": {},
     "output_type": "display_data"
    }
   ],
   "source": [
    "sns.boxplot(x='Found2',\n",
    "           y='SalePrice',\n",
    "           data=df,\n",
    "            order=df.groupby('Found2')['SalePrice'].median().sort_values().keys())\n",
    "\n",
    "vals = ['A', 'B', 'C']\n",
    "a = []\n",
    "for val in vals:\n",
    "    a.append(df.loc[df.Found2 == val].SalePrice)\n",
    "    \n",
    "print(f_oneway(*a))"
   ]
  },
  {
   "cell_type": "markdown",
   "metadata": {},
   "source": [
    "The fit here is a bit better in that the quantiles are more clearly separated and the p-value is also lower. I'll drop the rest of the features, since I specifically want to play with just the one."
   ]
  },
  {
   "cell_type": "code",
   "execution_count": 6,
   "metadata": {},
   "outputs": [],
   "source": [
    "df = df[['Foundation', 'Found2', 'SalePrice']]"
   ]
  },
  {
   "cell_type": "markdown",
   "metadata": {},
   "source": [
    "Next I'll explode the features into a set of binaries, and transform the originals into numerical ones to stop scikit-learn complaining."
   ]
  },
  {
   "cell_type": "code",
   "execution_count": 7,
   "metadata": {},
   "outputs": [],
   "source": [
    "df = pd.concat([df, pd.get_dummies(df.Foundation,\n",
    "                              prefix='foundation')], axis=1)\n",
    "\n",
    "df = pd.concat([df, pd.get_dummies(df.Found2,\n",
    "                                  prefix='found2')], axis=1)\n",
    "\n",
    "df.Foundation = df.Foundation.astype('category').cat.codes\n",
    "df.Found2 = df.Found2.astype('category').cat.codes"
   ]
  },
  {
   "cell_type": "markdown",
   "metadata": {},
   "source": [
    "A quick look..."
   ]
  },
  {
   "cell_type": "code",
   "execution_count": 8,
   "metadata": {},
   "outputs": [
    {
     "data": {
      "text/html": [
       "<div>\n",
       "<style scoped>\n",
       "    .dataframe tbody tr th:only-of-type {\n",
       "        vertical-align: middle;\n",
       "    }\n",
       "\n",
       "    .dataframe tbody tr th {\n",
       "        vertical-align: top;\n",
       "    }\n",
       "\n",
       "    .dataframe thead th {\n",
       "        text-align: right;\n",
       "    }\n",
       "</style>\n",
       "<table border=\"1\" class=\"dataframe\">\n",
       "  <thead>\n",
       "    <tr style=\"text-align: right;\">\n",
       "      <th></th>\n",
       "      <th>Foundation</th>\n",
       "      <th>Found2</th>\n",
       "      <th>SalePrice</th>\n",
       "      <th>foundation_BrkTil</th>\n",
       "      <th>foundation_CBlock</th>\n",
       "      <th>foundation_PConc</th>\n",
       "      <th>foundation_Slab</th>\n",
       "      <th>foundation_Stone</th>\n",
       "      <th>foundation_Wood</th>\n",
       "      <th>found2_A</th>\n",
       "      <th>found2_B</th>\n",
       "      <th>found2_C</th>\n",
       "    </tr>\n",
       "  </thead>\n",
       "  <tbody>\n",
       "    <tr>\n",
       "      <th>0</th>\n",
       "      <td>2</td>\n",
       "      <td>2</td>\n",
       "      <td>208500</td>\n",
       "      <td>0</td>\n",
       "      <td>0</td>\n",
       "      <td>1</td>\n",
       "      <td>0</td>\n",
       "      <td>0</td>\n",
       "      <td>0</td>\n",
       "      <td>0</td>\n",
       "      <td>0</td>\n",
       "      <td>1</td>\n",
       "    </tr>\n",
       "    <tr>\n",
       "      <th>1</th>\n",
       "      <td>1</td>\n",
       "      <td>1</td>\n",
       "      <td>181500</td>\n",
       "      <td>0</td>\n",
       "      <td>1</td>\n",
       "      <td>0</td>\n",
       "      <td>0</td>\n",
       "      <td>0</td>\n",
       "      <td>0</td>\n",
       "      <td>0</td>\n",
       "      <td>1</td>\n",
       "      <td>0</td>\n",
       "    </tr>\n",
       "    <tr>\n",
       "      <th>2</th>\n",
       "      <td>2</td>\n",
       "      <td>2</td>\n",
       "      <td>223500</td>\n",
       "      <td>0</td>\n",
       "      <td>0</td>\n",
       "      <td>1</td>\n",
       "      <td>0</td>\n",
       "      <td>0</td>\n",
       "      <td>0</td>\n",
       "      <td>0</td>\n",
       "      <td>0</td>\n",
       "      <td>1</td>\n",
       "    </tr>\n",
       "    <tr>\n",
       "      <th>3</th>\n",
       "      <td>0</td>\n",
       "      <td>1</td>\n",
       "      <td>140000</td>\n",
       "      <td>1</td>\n",
       "      <td>0</td>\n",
       "      <td>0</td>\n",
       "      <td>0</td>\n",
       "      <td>0</td>\n",
       "      <td>0</td>\n",
       "      <td>0</td>\n",
       "      <td>1</td>\n",
       "      <td>0</td>\n",
       "    </tr>\n",
       "    <tr>\n",
       "      <th>4</th>\n",
       "      <td>2</td>\n",
       "      <td>2</td>\n",
       "      <td>250000</td>\n",
       "      <td>0</td>\n",
       "      <td>0</td>\n",
       "      <td>1</td>\n",
       "      <td>0</td>\n",
       "      <td>0</td>\n",
       "      <td>0</td>\n",
       "      <td>0</td>\n",
       "      <td>0</td>\n",
       "      <td>1</td>\n",
       "    </tr>\n",
       "  </tbody>\n",
       "</table>\n",
       "</div>"
      ],
      "text/plain": [
       "   Foundation  Found2  SalePrice  foundation_BrkTil  foundation_CBlock  \\\n",
       "0           2       2     208500                  0                  0   \n",
       "1           1       1     181500                  0                  1   \n",
       "2           2       2     223500                  0                  0   \n",
       "3           0       1     140000                  1                  0   \n",
       "4           2       2     250000                  0                  0   \n",
       "\n",
       "   foundation_PConc  foundation_Slab  foundation_Stone  foundation_Wood  \\\n",
       "0                 1                0                 0                0   \n",
       "1                 0                0                 0                0   \n",
       "2                 1                0                 0                0   \n",
       "3                 0                0                 0                0   \n",
       "4                 1                0                 0                0   \n",
       "\n",
       "   found2_A  found2_B  found2_C  \n",
       "0         0         0         1  \n",
       "1         0         1         0  \n",
       "2         0         0         1  \n",
       "3         0         1         0  \n",
       "4         0         0         1  "
      ]
     },
     "execution_count": 8,
     "metadata": {},
     "output_type": "execute_result"
    }
   ],
   "source": [
    "df.head()"
   ]
  },
  {
   "cell_type": "markdown",
   "metadata": {},
   "source": [
    "Great; exactly what I'm looking for. So, we have a lot of models to train. We want:\n",
    "\n",
    "    1. A model trained on Foundation\n",
    "    2. A model trained on Found2\n",
    "    3. A model trained on Foundation*\n",
    "    4. A model trained on Found2*\n",
    "    5. A model trained on Foundation_*\n",
    "    6. A model trained on Found2_*\n",
    "    7. A model trained on Found*\n",
    "    8. A model trained on Foundation and Found2\n",
    "    9. A model trained on Foundation_* and Found2_*\n",
    "    10. A model trained on Foundation and Found2*\n",
    "\n",
    "And then we'll take a look at which one performs better. "
   ]
  },
  {
   "cell_type": "code",
   "execution_count": 9,
   "metadata": {},
   "outputs": [],
   "source": [
    "from sklearn.linear_model import LinearRegression\n",
    "from sklearn.model_selection import train_test_split\n",
    "\n",
    "y = df['SalePrice']\n",
    "df = df.drop(['SalePrice'], axis=1)"
   ]
  },
  {
   "cell_type": "markdown",
   "metadata": {},
   "source": [
    "The problem is if we only run it once the answers are kinda at the whims of the RNG gods, so we'll do it a bunch of times (call it a thousand or so) and take the average of each model as its score."
   ]
  },
  {
   "cell_type": "code",
   "execution_count": 13,
   "metadata": {},
   "outputs": [],
   "source": [
    "results = pd.DataFrame({'lr1':[],'lr2':[],'lr3':[],'lr4':[],'lr5':[],'lr6':[],'lr7':[],'lr8':[],'lr9':[], 'lr10':[]})\n",
    "results.columns = [\n",
    "    'lr1',\n",
    "    'lr2',\n",
    "    'lr3',\n",
    "    'lr4',\n",
    "    'lr5',\n",
    "    'lr6',\n",
    "    'lr7',\n",
    "    'lr8',\n",
    "    'lr9',\n",
    "    'lr10'\n",
    "]\n",
    "\n",
    "for i in range(0,1000):\n",
    "    x_train, x_test, y_train, y_test = train_test_split(df,\n",
    "                                                    y,\n",
    "                                                    test_size=0.33)\n",
    "    \n",
    "    lr1 = LinearRegression().fit(\n",
    "        x_train[['Foundation']],\n",
    "        y_train\n",
    "    )\n",
    "    \n",
    "    lr2 = LinearRegression().fit(\n",
    "        x_train[['Found2']],\n",
    "        y_train\n",
    "    )\n",
    "    \n",
    "    lr3 = LinearRegression().fit(\n",
    "        x_train[[\n",
    "            'Foundation',\n",
    "            'foundation_BrkTil',\n",
    "            'foundation_CBlock',\n",
    "            'foundation_PConc',\n",
    "            'foundation_Slab',\n",
    "            'foundation_Stone',\n",
    "            'foundation_Wood'\n",
    "        ]],\n",
    "        y_train\n",
    "    )\n",
    "    \n",
    "    lr4 = LinearRegression().fit(\n",
    "        x_train[[\n",
    "            'Found2',\n",
    "            'found2_A',\n",
    "            'found2_B',\n",
    "            'found2_C'\n",
    "        ]],\n",
    "        y_train\n",
    "    )\n",
    "    \n",
    "    lr5 = LinearRegression().fit(\n",
    "        x_train[[\n",
    "            'foundation_BrkTil',\n",
    "            'foundation_CBlock',\n",
    "            'foundation_PConc',\n",
    "            'foundation_Slab',\n",
    "            'foundation_Stone',\n",
    "            'foundation_Wood'\n",
    "        ]],\n",
    "        y_train\n",
    "    )\n",
    "    \n",
    "    lr6 = LinearRegression().fit(\n",
    "        x_train[[\n",
    "            'found2_A',\n",
    "            'found2_B',\n",
    "            'found2_C'\n",
    "        ]],\n",
    "        y_train\n",
    "    )\n",
    "    \n",
    "    lr7 = LinearRegression().fit(\n",
    "        x_train[[\n",
    "            'Foundation',\n",
    "            'foundation_BrkTil',\n",
    "            'foundation_CBlock',\n",
    "            'foundation_PConc',\n",
    "            'foundation_Slab',\n",
    "            'foundation_Stone',\n",
    "            'foundation_Wood'\n",
    "        ]],\n",
    "        y_train\n",
    "    )\n",
    "    \n",
    "    lr8 = LinearRegression().fit(\n",
    "        x_train[[\n",
    "            'Foundation',\n",
    "            'Found2'\n",
    "        ]],\n",
    "        y_train\n",
    "    )\n",
    "    \n",
    "    lr9 = LinearRegression().fit(\n",
    "        x_train[[\n",
    "            'foundation_BrkTil',\n",
    "            'foundation_CBlock',\n",
    "            'foundation_PConc',\n",
    "            'foundation_Slab',\n",
    "            'foundation_Stone',\n",
    "            'foundation_Wood',\n",
    "            'found2_A',\n",
    "            'found2_B',\n",
    "            'found2_C'\n",
    "        ]],\n",
    "        y_train\n",
    "    )\n",
    "    \n",
    "    lr10 = LinearRegression().fit(\n",
    "        x_train[[\n",
    "            'Foundation',\n",
    "            'Found2',\n",
    "            'found2_A',\n",
    "            'found2_B',\n",
    "            'found2_C'\n",
    "        ]],\n",
    "        y_train\n",
    "    )\n",
    "    \n",
    "    scores = [\n",
    "    lr1.score(\n",
    "        x_test[[\n",
    "            'Foundation'\n",
    "        ]],\n",
    "        y_test\n",
    "    ),\n",
    "    lr2.score(\n",
    "        x_test[[\n",
    "            'Found2'\n",
    "        ]],\n",
    "        y_test\n",
    "    ),\n",
    "    lr3.score(\n",
    "        x_test[[\n",
    "            'Foundation',\n",
    "            'foundation_BrkTil',\n",
    "            'foundation_CBlock',\n",
    "            'foundation_PConc',\n",
    "            'foundation_Slab',\n",
    "            'foundation_Stone',\n",
    "            'foundation_Wood'\n",
    "        ]],\n",
    "        y_test\n",
    "    ),\n",
    "    lr4.score(\n",
    "        x_test[[\n",
    "            'Found2',\n",
    "            'found2_A',\n",
    "            'found2_B',\n",
    "            'found2_C'\n",
    "        ]],\n",
    "        y_test\n",
    "    ),\n",
    "    lr5.score(\n",
    "        x_test[[\n",
    "            'foundation_BrkTil',\n",
    "            'foundation_CBlock',\n",
    "            'foundation_PConc',\n",
    "            'foundation_Slab',\n",
    "            'foundation_Stone',\n",
    "            'foundation_Wood'\n",
    "        ]],\n",
    "        y_test\n",
    "    ),\n",
    "    lr6.score(\n",
    "        x_test[[\n",
    "            'found2_A',\n",
    "            'found2_B',\n",
    "            'found2_C'\n",
    "        ]],\n",
    "        y_test\n",
    "    ),\n",
    "    lr7.score(\n",
    "        x_test[[\n",
    "            'Foundation',\n",
    "            'foundation_BrkTil',\n",
    "            'foundation_CBlock',\n",
    "            'foundation_PConc',\n",
    "            'foundation_Slab',\n",
    "            'foundation_Stone',\n",
    "            'foundation_Wood'\n",
    "        ]],\n",
    "        y_test\n",
    "    ),\n",
    "    lr8.score(\n",
    "        x_test[[\n",
    "            'Foundation',\n",
    "            'Found2'\n",
    "        ]],\n",
    "        y_test\n",
    "    ),\n",
    "    lr9.score(\n",
    "        x_test[[\n",
    "            'foundation_BrkTil',\n",
    "            'foundation_CBlock',\n",
    "            'foundation_PConc',\n",
    "            'foundation_Slab',\n",
    "            'foundation_Stone',\n",
    "            'foundation_Wood',\n",
    "            'found2_A',\n",
    "            'found2_B',\n",
    "            'found2_C'\n",
    "        ]],\n",
    "        y_test\n",
    "    ),\n",
    "    lr10.score(\n",
    "        x_test[[\n",
    "            'Foundation',\n",
    "            'Found2',\n",
    "            'found2_A',\n",
    "            'found2_B',\n",
    "            'found2_C'\n",
    "        ]],\n",
    "        y_test\n",
    "    )\n",
    "    ]\n",
    "    \n",
    "    results.loc[i] = scores"
   ]
  },
  {
   "cell_type": "markdown",
   "metadata": {},
   "source": [
    "So now we just take the averages:"
   ]
  },
  {
   "cell_type": "code",
   "execution_count": 12,
   "metadata": {},
   "outputs": [
    {
     "data": {
      "text/plain": [
       "lr8     2.490660e-01\n",
       "lr6     2.461020e-01\n",
       "lr10    2.459908e-01\n",
       "lr4     2.456027e-01\n",
       "lr2     2.439789e-01\n",
       "lr1     1.410223e-01\n",
       "lr5    -3.195401e+22\n",
       "lr9    -3.116514e+23\n",
       "lr7    -1.820658e+24\n",
       "lr3    -1.820658e+24\n",
       "Name: score, dtype: float64"
      ]
     },
     "execution_count": 12,
     "metadata": {},
     "output_type": "execute_result"
    }
   ],
   "source": [
    "r2 = pd.DataFrame({'score':[]})\n",
    "for col in results.columns:\n",
    "    r2.loc[col] = results[col].mean()\n",
    "    \n",
    "r2.score.sort_values(ascending=False)"
   ]
  },
  {
   "cell_type": "markdown",
   "metadata": {},
   "source": [
    "Concluding thoughts:\n",
    "\n",
    "Looks like the model trained on just Foundtion and Found2 is the solid winner. It surprises me that Model 10 including the exlpoded features is a less strong performer, as that's something a lot of people are adamant is worth doing. It could be that that method only becomes more performant if the number of binary features exploded is large enough. Something to explore in the future. In any case, it's pretty conclusive that this is something worth doing even when you're not categorising the features into _logical_ groups."
   ]
  }
 ],
 "metadata": {
  "kernelspec": {
   "display_name": "Python 3",
   "language": "python",
   "name": "python3"
  },
  "language_info": {
   "codemirror_mode": {
    "name": "ipython",
    "version": 3
   },
   "file_extension": ".py",
   "mimetype": "text/x-python",
   "name": "python",
   "nbconvert_exporter": "python",
   "pygments_lexer": "ipython3",
   "version": "3.6.6"
  }
 },
 "nbformat": 4,
 "nbformat_minor": 2
}
